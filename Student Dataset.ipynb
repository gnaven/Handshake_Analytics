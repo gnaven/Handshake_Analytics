{
 "cells": [
  {
   "cell_type": "markdown",
   "metadata": {},
   "source": [
    "### In this notebook we prepare the data and create a new sudent dataset to find out student engagement \n",
    "#### Attributes: userID, major, industry interests, GPA, documents num\n",
    "#### Potential Target Var: Job number, Events attendance, Appointments"
   ]
  },
  {
   "cell_type": "code",
   "execution_count": 65,
   "metadata": {},
   "outputs": [],
   "source": [
    "# load all datasets\n",
    "student_fname = 'data/Students.csv'\n",
    "applications_fname = 'data/Applications.csv'\n",
    "appointments_fname = 'data/Appointments.csv'\n",
    "career_fair_fname = 'data/Career_Fair.csv'\n",
    "#event_fname= 'Events.csv'"
   ]
  },
  {
   "cell_type": "code",
   "execution_count": 66,
   "metadata": {},
   "outputs": [],
   "source": [
    "import pandas as pd\n",
    "import numpy as np"
   ]
  },
  {
   "cell_type": "code",
   "execution_count": 67,
   "metadata": {},
   "outputs": [],
   "source": [
    "df_student = pd.read_csv(student_fname)\n",
    "df_applications = pd.read_csv(applications_fname)\n",
    "df_appointments = pd.read_csv(appointments_fname)\n",
    "df_fair = pd.read_csv(career_fair_fname)"
   ]
  },
  {
   "cell_type": "code",
   "execution_count": 68,
   "metadata": {},
   "outputs": [],
   "source": [
    "def diff_dates(df, recent_date,old_date):\n",
    "    df[recent_date] = pd.to_datetime(df[recent_date])\n",
    "    df[old_date] = pd.to_datetime(df[old_date])\n",
    "    new_col = df[recent_date] - df[old_date]\n",
    "    new_col= new_col.dt.days\n",
    "    \n",
    "    return new_col"
   ]
  },
  {
   "cell_type": "markdown",
   "metadata": {},
   "source": [
    "##### Cleaning appointments data"
   ]
  },
  {
   "cell_type": "code",
   "execution_count": 69,
   "metadata": {},
   "outputs": [
    {
     "data": {
      "text/plain": [
       "Index(['Student Username', 'Staff Member ID',\n",
       "       'Appointments Checked In? (Yes / No)',\n",
       "       'Appointments Drop-in? (Yes / No)', 'Appointments Start Date Date',\n",
       "       'Appointment Type Length (Minutes)', 'Appointment Type Name',\n",
       "       'Appointment Categories Name', 'Created By Created At Date'],\n",
       "      dtype='object')"
      ]
     },
     "execution_count": 69,
     "metadata": {},
     "output_type": "execute_result"
    }
   ],
   "source": [
    "df_appointments.columns"
   ]
  },
  {
   "cell_type": "code",
   "execution_count": 70,
   "metadata": {
    "scrolled": true
   },
   "outputs": [],
   "source": [
    "df_appointments['Drop_in_advisor'] = np.where(df_appointments['Appointments Drop-in? (Yes / No)'] == 'No',0,1)"
   ]
  },
  {
   "cell_type": "code",
   "execution_count": 71,
   "metadata": {},
   "outputs": [],
   "source": [
    "app_cols = ['Student Username','Drop_in_advisor','Appointment Type Length (Minutes)']\n",
    "df_appointment1 = df_appointments[app_cols]"
   ]
  },
  {
   "cell_type": "code",
   "execution_count": 72,
   "metadata": {
    "scrolled": true
   },
   "outputs": [],
   "source": [
    "df_appointment2 = df_appointment1.groupby(by='Student Username').mean().reset_index()"
   ]
  },
  {
   "cell_type": "markdown",
   "metadata": {},
   "source": [
    "#### Cleaning applications data"
   ]
  },
  {
   "cell_type": "code",
   "execution_count": 73,
   "metadata": {},
   "outputs": [
    {
     "data": {
      "text/plain": [
       "(51845, 7)"
      ]
     },
     "execution_count": 73,
     "metadata": {},
     "output_type": "execute_result"
    }
   ],
   "source": [
    "df_applications.shape"
   ]
  },
  {
   "cell_type": "code",
   "execution_count": 74,
   "metadata": {},
   "outputs": [
    {
     "data": {
      "text/plain": [
       "Index(['Applicant (student) Username', 'Applications ID',\n",
       "       'Employer Industry Name', 'Postings Apply Start Date',\n",
       "       'Postings Expiration Date Date', 'Student Educations Cumulative Gpa',\n",
       "       'Applications Created At Date'],\n",
       "      dtype='object')"
      ]
     },
     "execution_count": 74,
     "metadata": {},
     "output_type": "execute_result"
    }
   ],
   "source": [
    "df_applications.columns"
   ]
  },
  {
   "cell_type": "code",
   "execution_count": 75,
   "metadata": {},
   "outputs": [],
   "source": [
    "df_applications['days_before_due']= diff_dates(df_applications,'Postings Expiration Date Date','Applications Created At Date')"
   ]
  },
  {
   "cell_type": "markdown",
   "metadata": {},
   "source": [
    "#### Cleaning Career Fair Data"
   ]
  },
  {
   "cell_type": "code",
   "execution_count": 76,
   "metadata": {},
   "outputs": [
    {
     "data": {
      "text/plain": [
       "(4264, 10)"
      ]
     },
     "execution_count": 76,
     "metadata": {},
     "output_type": "execute_result"
    }
   ],
   "source": [
    "df_fair.shape"
   ]
  },
  {
   "cell_type": "code",
   "execution_count": 77,
   "metadata": {},
   "outputs": [
    {
     "data": {
      "text/plain": [
       "Index(['Student Attendees Username', 'Career Fair ID',\n",
       "       'Career Fair Session Session Start Date',\n",
       "       'Career Fair Student Registration Start Date',\n",
       "       'Career Fair Student Registration End Date',\n",
       "       'Career Fair Session Attendees Checked In? (Yes / No)',\n",
       "       'Career Fair Session Attendees Checked In At Date',\n",
       "       'Career Fair Session Attendees Created At Date',\n",
       "       'Career Fair Session Attendees Pre-Registered At Date',\n",
       "       'Career Fair Session Attendees Pre-Registered? (Yes / No)'],\n",
       "      dtype='object')"
      ]
     },
     "execution_count": 77,
     "metadata": {},
     "output_type": "execute_result"
    }
   ],
   "source": [
    "df_fair.columns"
   ]
  },
  {
   "cell_type": "code",
   "execution_count": 78,
   "metadata": {},
   "outputs": [],
   "source": [
    "df_fair['pre_reg']= np.where(df_fair['Career Fair Session Attendees Pre-Registered? (Yes / No)']=='Yes',1,0)\n",
    "df_fair['check_in'] = np.where(df_fair['Career Fair Session Attendees Checked In? (Yes / No)']=='Yes',1,0)"
   ]
  },
  {
   "cell_type": "code",
   "execution_count": 79,
   "metadata": {},
   "outputs": [],
   "source": [
    "fair_cols = ['Student Attendees Username','Career Fair ID','pre_reg','check_in']\n",
    "df_fair1 = df_fair[fair_cols].groupby(by = 'Student Attendees Username').agg({'Career Fair ID':'count','pre_reg':'mean','check_in':'mean'}).reset_index()"
   ]
  },
  {
   "cell_type": "markdown",
   "metadata": {},
   "source": [
    "##### Cleaning student data"
   ]
  },
  {
   "cell_type": "code",
   "execution_count": 80,
   "metadata": {},
   "outputs": [
    {
     "data": {
      "text/plain": [
       "(21259, 8)"
      ]
     },
     "execution_count": 80,
     "metadata": {},
     "output_type": "execute_result"
    }
   ],
   "source": [
    "df_student.shape"
   ]
  },
  {
   "cell_type": "code",
   "execution_count": 81,
   "metadata": {},
   "outputs": [
    {
     "data": {
      "text/plain": [
       "Index(['Students Username', 'Students Gender', 'Work Authorization Name',\n",
       "       'School Year Name', 'Career Interests: Career Clusters Name',\n",
       "       'Majors Name', 'Educations Cumulative Gpa', 'Documents Count'],\n",
       "      dtype='object')"
      ]
     },
     "execution_count": 81,
     "metadata": {},
     "output_type": "execute_result"
    }
   ],
   "source": [
    "df_student.columns"
   ]
  },
  {
   "cell_type": "code",
   "execution_count": 82,
   "metadata": {},
   "outputs": [],
   "source": [
    "## Making a new column that says whether student is at all engaged or not\n",
    "df_student['engaged'] = 0"
   ]
  },
  {
   "cell_type": "code",
   "execution_count": 83,
   "metadata": {},
   "outputs": [],
   "source": [
    "df_student['US Citizen']=np.where(df_student['Work Authorization Name']=='U.S. Citizen',1,0 )"
   ]
  },
  {
   "cell_type": "code",
   "execution_count": 84,
   "metadata": {},
   "outputs": [],
   "source": [
    "student_cols = ['Students Username', 'Students Gender', 'US Citizen',\n",
    "       'School Year Name', 'Career Interests: Career Clusters Name',\n",
    "       'Majors Name', 'Educations Cumulative Gpa', 'Documents Count']"
   ]
  },
  {
   "cell_type": "code",
   "execution_count": 85,
   "metadata": {},
   "outputs": [],
   "source": [
    "#compare with appointments\n",
    "df_student1 = df_student[student_cols]"
   ]
  },
  {
   "cell_type": "code",
   "execution_count": 86,
   "metadata": {},
   "outputs": [],
   "source": [
    "df_student1= df_student1.drop_duplicates(subset='Students Username', keep=\"last\")"
   ]
  },
  {
   "cell_type": "code",
   "execution_count": 87,
   "metadata": {},
   "outputs": [
    {
     "data": {
      "text/plain": [
       "Index(['Students Username', 'Students Gender', 'US Citizen',\n",
       "       'School Year Name', 'Career Interests: Career Clusters Name',\n",
       "       'Majors Name', 'Educations Cumulative Gpa', 'Documents Count'],\n",
       "      dtype='object')"
      ]
     },
     "execution_count": 87,
     "metadata": {},
     "output_type": "execute_result"
    }
   ],
   "source": [
    "df_student1.columns"
   ]
  },
  {
   "cell_type": "code",
   "execution_count": 88,
   "metadata": {},
   "outputs": [
    {
     "data": {
      "text/plain": [
       "Index(['Student Username', 'Drop_in_advisor',\n",
       "       'Appointment Type Length (Minutes)'],\n",
       "      dtype='object')"
      ]
     },
     "execution_count": 88,
     "metadata": {},
     "output_type": "execute_result"
    }
   ],
   "source": [
    "df_appointment2.columns"
   ]
  },
  {
   "cell_type": "markdown",
   "metadata": {},
   "source": [
    "#### Joining all data"
   ]
  },
  {
   "cell_type": "code",
   "execution_count": 89,
   "metadata": {},
   "outputs": [],
   "source": [
    "df_all_s_apt = pd.merge(df_student1, df_appointment2, how='left', left_on='Students Username',right_on= 'Student Username')"
   ]
  },
  {
   "cell_type": "code",
   "execution_count": 90,
   "metadata": {},
   "outputs": [],
   "source": [
    "df_all_s_apt_app = pd.merge(df_all_s_apt, df_applications, how='left', left_on='Students Username',right_on= 'Applicant (student) Username')"
   ]
  },
  {
   "cell_type": "code",
   "execution_count": 91,
   "metadata": {},
   "outputs": [],
   "source": [
    "df_all = pd.merge(df_all_s_apt_app, df_fair1, how='left', left_on='Students Username',right_on= 'Student Attendees Username')"
   ]
  },
  {
   "cell_type": "code",
   "execution_count": 92,
   "metadata": {},
   "outputs": [
    {
     "data": {
      "text/plain": [
       "Index(['Students Username', 'Students Gender', 'US Citizen',\n",
       "       'School Year Name', 'Career Interests: Career Clusters Name',\n",
       "       'Majors Name', 'Educations Cumulative Gpa', 'Documents Count',\n",
       "       'Student Username', 'Drop_in_advisor',\n",
       "       'Appointment Type Length (Minutes)', 'Applicant (student) Username',\n",
       "       'Applications ID', 'Employer Industry Name',\n",
       "       'Postings Apply Start Date', 'Postings Expiration Date Date',\n",
       "       'Student Educations Cumulative Gpa', 'Applications Created At Date',\n",
       "       'days_before_due', 'Student Attendees Username', 'Career Fair ID',\n",
       "       'pre_reg', 'check_in'],\n",
       "      dtype='object')"
      ]
     },
     "execution_count": 92,
     "metadata": {},
     "output_type": "execute_result"
    }
   ],
   "source": [
    "df_all.columns"
   ]
  },
  {
   "cell_type": "code",
   "execution_count": 93,
   "metadata": {},
   "outputs": [],
   "source": [
    "df_all = df_all.drop(columns=['Student Educations Cumulative Gpa'])"
   ]
  },
  {
   "cell_type": "code",
   "execution_count": 94,
   "metadata": {},
   "outputs": [],
   "source": [
    "df_all['Engaged_Fair'] = np.where(df_all['Student Attendees Username'].isnull(), 0,1)"
   ]
  },
  {
   "cell_type": "code",
   "execution_count": 95,
   "metadata": {},
   "outputs": [],
   "source": [
    "df_all['Engaged_Appointment'] = np.where(df_all['Student Username'].isnull(), 0,1)"
   ]
  },
  {
   "cell_type": "code",
   "execution_count": 96,
   "metadata": {},
   "outputs": [],
   "source": [
    "df_all['Engaged_Jobs'] = np.where(df_all['Applicant (student) Username'].isnull(), 0,1)"
   ]
  },
  {
   "cell_type": "code",
   "execution_count": 97,
   "metadata": {},
   "outputs": [],
   "source": [
    "df_all = df_all.drop(columns=['Student Attendees Username','Student Username','Applicant (student) Username'])"
   ]
  },
  {
   "cell_type": "code",
   "execution_count": 98,
   "metadata": {},
   "outputs": [],
   "source": [
    "df_all_1= df_all.drop_duplicates(subset='Students Username', keep=\"last\")"
   ]
  },
  {
   "cell_type": "code",
   "execution_count": 99,
   "metadata": {},
   "outputs": [
    {
     "data": {
      "text/html": [
       "<div>\n",
       "<style scoped>\n",
       "    .dataframe tbody tr th:only-of-type {\n",
       "        vertical-align: middle;\n",
       "    }\n",
       "\n",
       "    .dataframe tbody tr th {\n",
       "        vertical-align: top;\n",
       "    }\n",
       "\n",
       "    .dataframe thead th {\n",
       "        text-align: right;\n",
       "    }\n",
       "</style>\n",
       "<table border=\"1\" class=\"dataframe\">\n",
       "  <thead>\n",
       "    <tr style=\"text-align: right;\">\n",
       "      <th></th>\n",
       "      <th>Students Username</th>\n",
       "      <th>Students Gender</th>\n",
       "      <th>US Citizen</th>\n",
       "      <th>School Year Name</th>\n",
       "      <th>Career Interests: Career Clusters Name</th>\n",
       "      <th>Majors Name</th>\n",
       "      <th>Educations Cumulative Gpa</th>\n",
       "      <th>Documents Count</th>\n",
       "      <th>Drop_in_advisor</th>\n",
       "      <th>Appointment Type Length (Minutes)</th>\n",
       "      <th>...</th>\n",
       "      <th>Postings Apply Start Date</th>\n",
       "      <th>Postings Expiration Date Date</th>\n",
       "      <th>Applications Created At Date</th>\n",
       "      <th>days_before_due</th>\n",
       "      <th>Career Fair ID</th>\n",
       "      <th>pre_reg</th>\n",
       "      <th>check_in</th>\n",
       "      <th>Engaged_Fair</th>\n",
       "      <th>Engaged_Appointment</th>\n",
       "      <th>Engaged_Jobs</th>\n",
       "    </tr>\n",
       "  </thead>\n",
       "  <tbody>\n",
       "    <tr>\n",
       "      <th>104</th>\n",
       "      <td>amai2</td>\n",
       "      <td>Male</td>\n",
       "      <td>1</td>\n",
       "      <td>Alumni</td>\n",
       "      <td>Engineering, Technology, Data &amp; Physical Science</td>\n",
       "      <td>Business</td>\n",
       "      <td>3.77</td>\n",
       "      <td>99</td>\n",
       "      <td>0.000000</td>\n",
       "      <td>35.000000</td>\n",
       "      <td>...</td>\n",
       "      <td>2016-08-14</td>\n",
       "      <td>2016-12-31</td>\n",
       "      <td>2016-12-03</td>\n",
       "      <td>28.0</td>\n",
       "      <td>5.0</td>\n",
       "      <td>1.000000</td>\n",
       "      <td>0.40</td>\n",
       "      <td>1</td>\n",
       "      <td>1</td>\n",
       "      <td>1</td>\n",
       "    </tr>\n",
       "    <tr>\n",
       "      <th>291</th>\n",
       "      <td>dorenste</td>\n",
       "      <td>Male</td>\n",
       "      <td>1</td>\n",
       "      <td>Alumni</td>\n",
       "      <td>Arts, Entertainment, Communications, Marketing...</td>\n",
       "      <td>Financial Economics</td>\n",
       "      <td>3.63</td>\n",
       "      <td>67</td>\n",
       "      <td>0.166667</td>\n",
       "      <td>28.714286</td>\n",
       "      <td>...</td>\n",
       "      <td>2016-07-31</td>\n",
       "      <td>2016-09-18</td>\n",
       "      <td>2016-09-12</td>\n",
       "      <td>6.0</td>\n",
       "      <td>2.0</td>\n",
       "      <td>0.500000</td>\n",
       "      <td>0.50</td>\n",
       "      <td>1</td>\n",
       "      <td>1</td>\n",
       "      <td>1</td>\n",
       "    </tr>\n",
       "    <tr>\n",
       "      <th>394</th>\n",
       "      <td>emill28</td>\n",
       "      <td>Male</td>\n",
       "      <td>1</td>\n",
       "      <td>Alumni</td>\n",
       "      <td>Consulting, Finance, Operations, &amp; Sales</td>\n",
       "      <td>Financial Economics</td>\n",
       "      <td>3.77</td>\n",
       "      <td>65</td>\n",
       "      <td>0.000000</td>\n",
       "      <td>30.000000</td>\n",
       "      <td>...</td>\n",
       "      <td>2016-09-01</td>\n",
       "      <td>2016-11-01</td>\n",
       "      <td>2016-10-22</td>\n",
       "      <td>10.0</td>\n",
       "      <td>4.0</td>\n",
       "      <td>1.000000</td>\n",
       "      <td>0.75</td>\n",
       "      <td>1</td>\n",
       "      <td>1</td>\n",
       "      <td>1</td>\n",
       "    </tr>\n",
       "    <tr>\n",
       "      <th>696</th>\n",
       "      <td>msingh20</td>\n",
       "      <td>Male</td>\n",
       "      <td>0</td>\n",
       "      <td>Alumni</td>\n",
       "      <td>Engineering, Technology, Data &amp; Physical Science</td>\n",
       "      <td>Economics</td>\n",
       "      <td>3.90</td>\n",
       "      <td>61</td>\n",
       "      <td>0.058824</td>\n",
       "      <td>29.117647</td>\n",
       "      <td>...</td>\n",
       "      <td>2016-08-17</td>\n",
       "      <td>2016-10-16</td>\n",
       "      <td>2016-09-09</td>\n",
       "      <td>37.0</td>\n",
       "      <td>4.0</td>\n",
       "      <td>0.000000</td>\n",
       "      <td>1.00</td>\n",
       "      <td>1</td>\n",
       "      <td>1</td>\n",
       "      <td>1</td>\n",
       "    </tr>\n",
       "    <tr>\n",
       "      <th>815</th>\n",
       "      <td>ssalen2</td>\n",
       "      <td>Female</td>\n",
       "      <td>1</td>\n",
       "      <td>Masters</td>\n",
       "      <td>Consulting, Finance, Operations, &amp; Sales</td>\n",
       "      <td>Data Science</td>\n",
       "      <td>NaN</td>\n",
       "      <td>61</td>\n",
       "      <td>0.103448</td>\n",
       "      <td>29.482759</td>\n",
       "      <td>...</td>\n",
       "      <td>2016-07-31</td>\n",
       "      <td>2016-10-16</td>\n",
       "      <td>2016-10-10</td>\n",
       "      <td>6.0</td>\n",
       "      <td>6.0</td>\n",
       "      <td>0.666667</td>\n",
       "      <td>1.00</td>\n",
       "      <td>1</td>\n",
       "      <td>1</td>\n",
       "      <td>1</td>\n",
       "    </tr>\n",
       "  </tbody>\n",
       "</table>\n",
       "<p>5 rows × 22 columns</p>\n",
       "</div>"
      ],
      "text/plain": [
       "    Students Username Students Gender  US Citizen School Year Name  \\\n",
       "104             amai2            Male           1           Alumni   \n",
       "291          dorenste            Male           1           Alumni   \n",
       "394           emill28            Male           1           Alumni   \n",
       "696          msingh20            Male           0           Alumni   \n",
       "815           ssalen2          Female           1          Masters   \n",
       "\n",
       "                Career Interests: Career Clusters Name          Majors Name  \\\n",
       "104   Engineering, Technology, Data & Physical Science             Business   \n",
       "291  Arts, Entertainment, Communications, Marketing...  Financial Economics   \n",
       "394           Consulting, Finance, Operations, & Sales  Financial Economics   \n",
       "696   Engineering, Technology, Data & Physical Science            Economics   \n",
       "815           Consulting, Finance, Operations, & Sales         Data Science   \n",
       "\n",
       "     Educations Cumulative Gpa  Documents Count  Drop_in_advisor  \\\n",
       "104                       3.77               99         0.000000   \n",
       "291                       3.63               67         0.166667   \n",
       "394                       3.77               65         0.000000   \n",
       "696                       3.90               61         0.058824   \n",
       "815                        NaN               61         0.103448   \n",
       "\n",
       "     Appointment Type Length (Minutes)      ...       \\\n",
       "104                          35.000000      ...        \n",
       "291                          28.714286      ...        \n",
       "394                          30.000000      ...        \n",
       "696                          29.117647      ...        \n",
       "815                          29.482759      ...        \n",
       "\n",
       "     Postings Apply Start Date Postings Expiration Date Date  \\\n",
       "104                 2016-08-14                    2016-12-31   \n",
       "291                 2016-07-31                    2016-09-18   \n",
       "394                 2016-09-01                    2016-11-01   \n",
       "696                 2016-08-17                    2016-10-16   \n",
       "815                 2016-07-31                    2016-10-16   \n",
       "\n",
       "    Applications Created At Date days_before_due Career Fair ID   pre_reg  \\\n",
       "104                   2016-12-03            28.0            5.0  1.000000   \n",
       "291                   2016-09-12             6.0            2.0  0.500000   \n",
       "394                   2016-10-22            10.0            4.0  1.000000   \n",
       "696                   2016-09-09            37.0            4.0  0.000000   \n",
       "815                   2016-10-10             6.0            6.0  0.666667   \n",
       "\n",
       "     check_in  Engaged_Fair  Engaged_Appointment  Engaged_Jobs  \n",
       "104      0.40             1                    1             1  \n",
       "291      0.50             1                    1             1  \n",
       "394      0.75             1                    1             1  \n",
       "696      1.00             1                    1             1  \n",
       "815      1.00             1                    1             1  \n",
       "\n",
       "[5 rows x 22 columns]"
      ]
     },
     "execution_count": 99,
     "metadata": {},
     "output_type": "execute_result"
    }
   ],
   "source": [
    "df_all_1.head()"
   ]
  },
  {
   "cell_type": "code",
   "execution_count": 102,
   "metadata": {},
   "outputs": [
    {
     "data": {
      "text/plain": [
       "Index(['Students Username', 'Students Gender', 'US Citizen',\n",
       "       'School Year Name', 'Career Interests: Career Clusters Name',\n",
       "       'Majors Name', 'Educations Cumulative Gpa', 'Documents Count',\n",
       "       'Drop_in_advisor', 'Appointment Type Length (Minutes)',\n",
       "       'Applications ID', 'Employer Industry Name',\n",
       "       'Postings Apply Start Date', 'Postings Expiration Date Date',\n",
       "       'Applications Created At Date', 'days_before_due', 'Career Fair ID',\n",
       "       'pre_reg', 'check_in', 'Engaged_Fair', 'Engaged_Appointment',\n",
       "       'Engaged_Jobs'],\n",
       "      dtype='object')"
      ]
     },
     "execution_count": 102,
     "metadata": {},
     "output_type": "execute_result"
    }
   ],
   "source": [
    "df_all_1."
   ]
  },
  {
   "cell_type": "code",
   "execution_count": 103,
   "metadata": {},
   "outputs": [],
   "source": [
    "df_all_1.to_csv('Mega_Data.csv')"
   ]
  },
  {
   "cell_type": "code",
   "execution_count": 105,
   "metadata": {},
   "outputs": [],
   "source": [
    "df_all_2=df_all_1.drop(columns = ['Career Interests: Career Clusters Name','Majors Name',\n",
    "                         'Applications ID','Employer Industry Name',\n",
    "                         'Postings Apply Start Date', 'Postings Expiration Date Date',\n",
    "                         'Applications Created At Date'])"
   ]
  },
  {
   "cell_type": "code",
   "execution_count": 107,
   "metadata": {},
   "outputs": [
    {
     "data": {
      "text/plain": [
       "array(['Alumni', 'Masters', 'Senior', 'Junior', 'Sophomore', 'Freshman',\n",
       "       'Doctorate', nan, 'Masters of Business Administration',\n",
       "       'Postdoctoral Studies'], dtype=object)"
      ]
     },
     "execution_count": 107,
     "metadata": {},
     "output_type": "execute_result"
    }
   ],
   "source": [
    "df_all_2['School Year Name'].unique()"
   ]
  },
  {
   "cell_type": "code",
   "execution_count": 109,
   "metadata": {},
   "outputs": [],
   "source": [
    "Year = {'Freshman':1, 'Sophomore':2, 'Junior':3, 'Senior':4,'Masters':5, 'Alumni':5,\n",
    "        'Doctorate':5,'Masters of Business Administration':5,'Postdoctoral Studies':5}\n",
    "df_all_2 = df_all_2.replace({'School Year Name': Year})"
   ]
  },
  {
   "cell_type": "code",
   "execution_count": 114,
   "metadata": {},
   "outputs": [],
   "source": [
    "df_all_2 = df_all_2.drop(columns = ['Students Gender'])"
   ]
  },
  {
   "cell_type": "code",
   "execution_count": 115,
   "metadata": {},
   "outputs": [],
   "source": [
    "df_all_2.to_csv('data/all_data_numeric.csv')"
   ]
  },
  {
   "cell_type": "code",
   "execution_count": null,
   "metadata": {},
   "outputs": [],
   "source": []
  }
 ],
 "metadata": {
  "kernelspec": {
   "display_name": "Python 3",
   "language": "python",
   "name": "python3"
  },
  "language_info": {
   "codemirror_mode": {
    "name": "ipython",
    "version": 3
   },
   "file_extension": ".py",
   "mimetype": "text/x-python",
   "name": "python",
   "nbconvert_exporter": "python",
   "pygments_lexer": "ipython3",
   "version": "3.7.1"
  }
 },
 "nbformat": 4,
 "nbformat_minor": 2
}
